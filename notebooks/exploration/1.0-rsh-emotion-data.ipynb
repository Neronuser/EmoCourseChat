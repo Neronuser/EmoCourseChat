{
 "cells": [
  {
   "cell_type": "code",
   "execution_count": 2,
   "metadata": {
    "collapsed": true
   },
   "outputs": [],
   "source": [
    "import pandas as pd\n",
    "import pandas_profiling"
   ]
  },
  {
   "cell_type": "code",
   "execution_count": 3,
   "metadata": {},
   "outputs": [],
   "source": [
    "def generate_final_report(df):\n",
    "    processed_report = pandas_profiling.ProfileReport(df)\n",
    "    processed_report.to_file(\"reports/2.0-emotions-processed.html\")"
   ]
  },
  {
   "cell_type": "code",
   "execution_count": 5,
   "metadata": {},
   "outputs": [],
   "source": [
    "df = pd.read_csv(\"data/processed/emotions_initial.csv\", encoding='UTF-8', header=None, names=['text', 'emotion', 'source'])\n",
    "initial_report = pandas_profiling.ProfileReport(df)\n",
    "initial_report.to_file(\"reports/1.0-emotions-initial.html\")"
   ]
  },
  {
   "cell_type": "code",
   "execution_count": 6,
   "metadata": {},
   "outputs": [],
   "source": [
    "df.emotion = df.emotion.str.lower()"
   ]
  },
  {
   "cell_type": "code",
   "execution_count": 7,
   "metadata": {},
   "outputs": [
    {
     "data": {
      "text/plain": [
       "array(['surprise', 'sadness', 'joy', 'disgust', 'fear', 'anger', 'empty',\n       'enthusiasm', 'neutral', 'worry', 'love', 'fun', 'hate',\n       'happiness', 'boredom', 'relief',\n       'anger or annoyance or hostility or fury',\n       'anticipation or  expectancy or interest', 'admiration', 'dislike',\n       'uncertainty or indecision or confusion',\n       'joy or happiness or elation', 'like', 'indifference',\n       'disappointment', 'calmness or serenity', 'amazement', 'acceptance',\n       'fear or apprehension or panic or terror', 'vigilance', 'trust',\n       'blank', 'sadness or gloominess or grief or sorrow', 'interest',\n       'negative', 'positive', 'anticipation'], dtype=object)"
      ]
     },
     "execution_count": 7,
     "metadata": {},
     "output_type": "execute_result"
    }
   ],
   "source": [
    "df.emotion.unique()"
   ]
  },
  {
   "cell_type": "code",
   "execution_count": 8,
   "metadata": {},
   "outputs": [
    {
     "data": {
      "text/plain": [
       "array(['surprise', 'sadness', 'happiness', 'disgust', 'fear', 'anger',\n       'empty', 'enthusiasm', 'neutral', 'worry', 'love', 'fun', 'hate',\n       'boredom', 'relief', 'interest', 'admiration', 'dislike',\n       'uncertainty or indecision or confusion', 'like', 'indifference',\n       'disappointment', 'calmness or serenity', 'amazement', 'acceptance',\n       'vigilance', 'trust', 'blank', 'negative', 'positive',\n       'anticipation'], dtype=object)"
      ]
     },
     "execution_count": 8,
     "metadata": {},
     "output_type": "execute_result"
    }
   ],
   "source": [
    "df.loc[df.emotion == 'joy or happiness or elation', 'emotion'] = 'happiness'\n",
    "df.loc[df.emotion == 'joy', 'emotion'] = 'happiness'\n",
    "df.loc[df.emotion == 'fear or apprehension or panic or terror', 'emotion'] = 'fear'\n",
    "df.loc[df.emotion == 'anticipation or  expectancy or interest', 'emotion'] = 'interest'\n",
    "df.loc[df.emotion == 'anger or annoyance or hostility or fury', 'emotion'] = 'anger'\n",
    "df.loc[df.emotion == 'sadness or gloominess or grief or sorrow', 'emotion'] = 'sadness'\n",
    "df.emotion.unique()"
   ]
  },
  {
   "cell_type": "code",
   "execution_count": 9,
   "metadata": {},
   "outputs": [
    {
     "data": {
      "text/plain": [
       "array(['surprise', 'sadness', 'happiness', 'disgust', 'fear', 'anger',\n       'empty', 'enthusiasm', 'neutral', 'worry', 'love', 'fun', 'hate',\n       'boredom', 'relief', 'interest'], dtype=object)"
      ]
     },
     "execution_count": 9,
     "metadata": {},
     "output_type": "execute_result"
    }
   ],
   "source": [
    "df = df[~df.source.isin(['electoral_tweets', 'nrc_lexicon'])]\n",
    "df.emotion.unique()"
   ]
  },
  {
   "cell_type": "code",
   "execution_count": 10,
   "metadata": {},
   "outputs": [
    {
     "data": {
      "text/plain": [
       "array(['surprise', 'sadness', 'happiness', 'disgust', 'fear', 'anger',\n       'enthusiasm', 'neutral', 'worry', 'love', 'fun', 'hate', 'boredom',\n       'relief', 'interest'], dtype=object)"
      ]
     },
     "execution_count": 10,
     "metadata": {},
     "output_type": "execute_result"
    }
   ],
   "source": [
    "df = df[~df.emotion.isin(['positive', 'negative', 'empty'])]\n",
    "df.emotion.unique()"
   ]
  },
  {
   "cell_type": "code",
   "execution_count": 11,
   "metadata": {},
   "outputs": [
    {
     "data": {
      "text/html": [
       "<div>\n",
       "<style scoped>\n",
       "    .dataframe tbody tr th:only-of-type {\n",
       "        vertical-align: middle;\n",
       "    }\n",
       "\n",
       "    .dataframe tbody tr th {\n",
       "        vertical-align: top;\n",
       "    }\n",
       "\n",
       "    .dataframe thead th {\n",
       "        text-align: right;\n",
       "    }\n",
       "</style>\n",
       "<table border=\"1\" class=\"dataframe\">\n",
       "  <thead>\n",
       "    <tr style=\"text-align: right;\">\n",
       "      <th></th>\n",
       "      <th>text</th>\n",
       "      <th>emotion</th>\n",
       "      <th>source</th>\n",
       "    </tr>\n",
       "  </thead>\n",
       "  <tbody>\n",
       "    <tr>\n",
       "      <th>21056</th>\n",
       "      <td>Re-pinging @ghostridah14: why didn't you go to...</td>\n",
       "      <td>worry</td>\n",
       "      <td>crowdflower</td>\n",
       "    </tr>\n",
       "    <tr>\n",
       "      <th>21058</th>\n",
       "      <td>Hmmm. http://www.djhero.com/ is down</td>\n",
       "      <td>worry</td>\n",
       "      <td>crowdflower</td>\n",
       "    </tr>\n",
       "    <tr>\n",
       "      <th>21062</th>\n",
       "      <td>Choked on her retainers</td>\n",
       "      <td>worry</td>\n",
       "      <td>crowdflower</td>\n",
       "    </tr>\n",
       "    <tr>\n",
       "      <th>21069</th>\n",
       "      <td>@PerezHilton lady gaga tweeted about not being...</td>\n",
       "      <td>worry</td>\n",
       "      <td>crowdflower</td>\n",
       "    </tr>\n",
       "    <tr>\n",
       "      <th>21071</th>\n",
       "      <td>@raaaaaaek oh too bad! I hope it gets better. ...</td>\n",
       "      <td>worry</td>\n",
       "      <td>crowdflower</td>\n",
       "    </tr>\n",
       "  </tbody>\n",
       "</table>\n",
       "</div>"
      ],
      "text/plain": [
       "<div>\n",
       "<style scoped>\n",
       "    .dataframe tbody tr th:only-of-type {\n",
       "        vertical-align: middle;\n",
       "    }\n",
       "\n",
       "    .dataframe tbody tr th {\n",
       "        vertical-align: top;\n",
       "    }\n",
       "\n",
       "    .dataframe thead th {\n",
       "        text-align: right;\n",
       "    }\n",
       "</style>\n",
       "<table border=\"1\" class=\"dataframe\">\n",
       "  <thead>\n",
       "    <tr style=\"text-align: right;\">\n",
       "      <th></th>\n",
       "      <th>text</th>\n",
       "      <th>emotion</th>\n",
       "      <th>source</th>\n",
       "    </tr>\n",
       "  </thead>\n",
       "  <tbody>\n",
       "    <tr>\n",
       "      <th>21056</th>\n",
       "      <td>Re-pinging @ghostridah14: why didn't you go to...</td>\n",
       "      <td>worry</td>\n",
       "      <td>crowdflower</td>\n",
       "    </tr>\n",
       "    <tr>\n",
       "      <th>21058</th>\n",
       "      <td>Hmmm. http://www.djhero.com/ is down</td>\n",
       "      <td>worry</td>\n",
       "      <td>crowdflower</td>\n",
       "    </tr>\n",
       "    <tr>\n",
       "      <th>21062</th>\n",
       "      <td>Choked on her retainers</td>\n",
       "      <td>worry</td>\n",
       "      <td>crowdflower</td>\n",
       "    </tr>\n",
       "    <tr>\n",
       "      <th>21069</th>\n",
       "      <td>@PerezHilton lady gaga tweeted about not being...</td>\n",
       "      <td>worry</td>\n",
       "      <td>crowdflower</td>\n",
       "    </tr>\n",
       "    <tr>\n",
       "      <th>21071</th>\n",
       "      <td>@raaaaaaek oh too bad! I hope it gets better. ...</td>\n",
       "      <td>worry</td>\n",
       "      <td>crowdflower</td>\n",
       "    </tr>\n",
       "  </tbody>\n",
       "</table>\n",
       "</div>"
      ]
     },
     "execution_count": 11,
     "metadata": {},
     "output_type": "execute_result"
    }
   ],
   "source": [
    "df[df.emotion.isin(['worry'])].head()"
   ]
  },
  {
   "cell_type": "code",
   "execution_count": 16,
   "metadata": {},
   "outputs": [],
   "source": [
    "df.loc[df.text == \"Headache\", 'emotion'] = 'sadness'\n",
    "df.loc[df.text == \"i have a headache\", 'emotion'] = 'sadness'\n",
    "df.loc[df.text == \"Work...\", 'emotion'] = 'sadness'\n",
    "df.loc[df.text == \"i wanna go home\", 'emotion'] = 'sadness'\n",
    "df.loc[df.text == \"Man city's kit is dreadful!\", 'emotion'] = 'disgust'\n",
    "df.loc[df.text == \"why am i so tired?\", 'emotion'] = 'worry'\n",
    "df.loc[df.text == \"It feels like there are no houses out there for us. With the \" \\\n",
    "                  \"most basic requirements I have, there are literally no options. \" \\\n",
    "                  \"#discouraged\", 'emotion'] = 'sadness'\n",
    "\n",
    "\n",
    "df.loc[df.text == \"Americans as a whole are, for the most part, feeling borderline despair \" \\\n",
    "                  \"at the very least. Looking at \" \\\n",
    "                  \"a situation out of control.\", 'emotion'] = 'neutral'\n",
    "df.loc[df.text == \"@Fly_Norwegian quite simply the #worst #airline #worstairline \" \\\n",
    "                  \"I've ever used! #shocking #appauling #dire #dismal #beyondajoke #useless\", 'emotion'] = 'hate'\n",
    "df.loc[df.text == \"we're getting another puppy ... not cool... really\", 'emotion'] = 'sadness'\n",
    "df.loc[df.text == \"headache\", 'emotion'] = 'sadness'\n",
    "df.loc[df.text == \"bad news fam, life is still hard and awful \" \\\n",
    "                  \"#depression #anxiety #atleastIhaveBuffy\", 'emotion'] = 'sadness'\n",
    "df.loc[df.text == \"#PeopleLikeMeBecause they see the happy exterior, not the hopelessness \" \\\n",
    "                  \"I sometimes feel inside. #depression #anxiety #anxietyprobz\", 'emotion'] = 'sadness'\n",
    "df.loc[df.text == \"at hannah montana set.... im missing tennessee ALOT today\", 'emotion'] = 'sadness'\n",
    "df.loc[df.text == \"Does she really need to pout all the time - \" \\\n",
    "                  \"getting on my nerves #GBBO\", 'emotion'] = 'anger'\n",
    "df.loc[df.text == \"I feel like I am drowning. #depression #anxiety #falure #worthless\", 'emotion'] = 'sadness'\n",
    "df.loc[df.text == \"Migraine hangover all day. Stood up to do dishes and now I'm exhausted again. \" \\\n",
    "                  \"GAD, depression & chronic pain #anxiety #depression #pain\", 'emotion'] = 'sadness'\n",
    "df.loc[df.text == \"trying to find some friends and not having any luck\", 'emotion'] = 'sadness'\n",
    "df.loc[df.text == \"is upset, I left my phone at home again\", 'emotion'] = 'sadness'\n",
    "df.loc[df.text == \"@todofuku dreadful day at work n now im gonna be late for \" \\\n",
    "                  \"class n im covered in paint, n now i have to \" \\\n",
    "                  \"work a night shift too :/\", 'emotion'] = 'sadness'\n",
    "df.loc[df.text == \"Is at work\", 'emotion'] = 'neutral'\n",
    "df.loc[df.text == \"I'm at work\", 'emotion'] = 'neutral'\n",
    "df.loc[df.text == \"good morning!\", 'emotion'] = 'neutral'\n",
    "df.loc[df.text == \"Good Morning\", 'emotion'] = 'neutral'\n",
    "df.loc[df.text == \"Goodmorning\", 'emotion'] = 'neutral'\n",
    "df.loc[df.text == \"Good morning\", 'emotion'] = 'neutral'\n",
    "df.loc[df.text == \"work all day\", 'emotion'] = 'neutral'\n",
    "df.loc[df.text == \"Off to work\", 'emotion'] = 'neutral'\n",
    "df.loc[df.text == \"Getting a little mowing the grass in this evening! fun\", 'emotion'] = 'fun'\n",
    "df.loc[df.text == \"Prehistoric Romeo and Juliet discovered\", 'emotion'] = 'neutral'\n",
    "df.loc[df.text == \"Good morning everyone\", 'emotion'] = 'neutral'\n",
    "df.loc[df.text == \"Hope was an instinct only the reasoning human mind could kill. An animal never knew despair.\", 'emotion'] = 'neutral'\n",
    "df.loc[df.text == \"New Indonesia Calamity, a Mud Bath, Is Man-Made\", 'emotion'] = 'neutral'\n",
    "df.loc[df.text == \"may the 4th be with you\", 'emotion'] = 'neutral'\n",
    "df.loc[df.text.str.contains('Going home  but'), 'emotion'] = 'happiness'\n",
    "df.loc[df.text.str.contains(\"we're getting another puppy\"), 'emotion'] = 'sadness'\n",
    "df.loc[df.text.str.contains(\"Restoring new iTouch 2\"), 'emotion'] = 'happiness'\n",
    "df.loc[df.text == \"my tummy hurts\", 'emotion'] = 'sadness'\n",
    "df.loc[df.text == \"@loueezecee I don't know how much more of that \" \\\n",
    "                  \"bloody pout I can take!!\", 'emotion'] = 'anger'\n",
    "df.loc[df.text == \"Restoring new iTouch 2. Excited to use it. \" \\\n",
    "                  \"Yeeeeeeeee. Goodbye iTouch 1.\", 'emotion'] = 'happiness'\n",
    "df.loc[df.text == \"tummy hurts\", 'emotion'] = 'sadness'\n",
    "df.loc[df.text == \"My head hurts\", 'emotion'] = 'sadness'\n",
    "df.loc[df.text == \"@brendancoots where's your outrage that your party nominated a \" \\\n",
    "                  \"lying, corrupt person? And received donations from \" \\\n",
    "                  \"nations who support terror\", 'emotion'] = 'anger'\n",
    "df.loc[df.text == \"Go away please ... I'm begging »»» #depression #anxiety \" \\\n",
    "                  \"#worry #fear #sadness \\nDreams of joy and my baby to be \" \\\n",
    "                  \"found...Sits on #AndisBench\", 'emotion'] = 'sadness'\n",
    "df.loc[df.text == \"r U scared to present in front of the class? severe anxiety... \" \\\n",
    "                  \"whats That r u sad sometimes?? go get ur \" \\\n",
    "                  \"depression checked out IMEDIATELY!!!\", 'emotion'] = 'worry'\n",
    "df.loc[df.text == \"Can we go back 2 weeks and start again ?? \" \\\n",
    "                  \"This is seriously dreadful\", 'emotion'] = 'fear'\n",
    "df.loc[df.text == \"It's pretty clear I can't stand @HillaryClinton, no tolerance for \" \\\n",
    "                  \"habitual liars. Not a Trump fan either so what's a citizen \" \\\n",
    "                  \"to do? #despair\", 'emotion'] = 'anger'\n",
    "df.loc[df.text == \"@andyclemmensen have you seen the game on \" \\\n",
    "                  \"the website?! awesomness!!! go on msn\", 'emotion'] = 'happiness'\n",
    "\n",
    "df.loc[df.text == \"happy mothers day\", 'emotion'] = 'fun'\n",
    "df.loc[df.text == \"happy mother's day!!!\", 'emotion'] = 'fun'\n",
    "df.loc[df.text == \"Happy Mother's Day to all you moms out there\", 'emotion'] = 'fun'\n",
    "df.loc[df.text == \"Happy mothers day!\", 'emotion'] = 'fun'\n",
    "df.loc[df.text == \"happy mother's day\", 'emotion'] = 'fun'\n",
    "df.loc[df.text == \"happy mother's day!\", 'emotion'] = 'fun'\n",
    "df.loc[df.text == \"Happy Mothers Day\", 'emotion'] = 'fun'\n",
    "df.loc[df.text == \"Happy Mother's Day!\", 'emotion'] = 'fun'\n",
    "df.loc[df.text == \"Happy Mother's Day\", 'emotion'] = 'fun'\n",
    "df.loc[df.text == \"HAPPY MOTHERS DAY!\", 'emotion'] = 'fun'\n",
    "df.loc[df.text == \"happy mother's day everyone\", 'emotion'] = 'fun'\n",
    "df.loc[df.text == \"Happy Mothers Day!\", 'emotion'] = 'fun'\n",
    "df.loc[df.text == \"Happy Mother's Day to all the moms out there!\", 'emotion'] = 'fun'\n",
    "df.loc[df.text == \"happy star wars day\", 'emotion'] = 'fun'\n",
    "df.loc[df.text == \"Happy Star Wars Day\", 'emotion'] = 'fun'\n",
    "df = df[~df.text.isin(['FREE UNLIMITED RINGTONES!!! - '\n",
    "                       'http://tinyurl.com/freeringring - '\n",
    "                       'USA ONLY - Awesome 4 iphone', \n",
    "                       'http://snipurl.com/hq0n1 '\n",
    "                       'Just printed my mom an Amazon '\n",
    "                       'gift card for Happy Mothers Day talk about last minute.',\n",
    "                       \"@Orrible_Ives I didn't say anything bad about the \"\n",
    "                       \"situation great mate, can't believe some were. Makes \"\n",
    "                       \"me despair of humanity\", \n",
    "                       \"hey @mitchelmusso please reply me, \"\n",
    "                       \"i can't call you im from Mexico and i \"\n",
    "                       \"don't know the code love you\",\n",
    "                       \"@DougieMcfly Haha dude, we have the same b-date :p I'll \"\n",
    "                       \"wish u ur b-day the 3oth November. I'll also turn 16 \"\n",
    "                       \"Can u reply to me please ?\",\n",
    "                       \"@BigBossPeltonen \\nLikewise #death #cutting #despair\",\n",
    "                       \"@mar_de_palabras But I do think we need to experience a bit \"\n",
    "                       \"madness & despair too. This is the stuff that makes us human.\",\n",
    "                       \"@ThinkReferrals oh man I'm jealous! just got it?\",\n",
    "                       \"Geoff posted a boo: Coming Home From Tenerife Boo http://boo.fm/b25651\",\n",
    "                       \"@komaebun He just has that way of thinking, he wants absolute hope \"\n",
    "                       \"born from absolute despair.\",\n",
    "                       \"@tariqmateen but sadly he missed some crucial and important points. \"\n",
    "                       \"Indian terrorism in pk, kal Boshan, etc.. Raw involvement\",\n",
    "                       \"@HannahFJames I'm distraught! 😭 Candice and her pout can piss \"\n",
    "                       \"off\",\n",
    "                       \"@DawnRichard Dawwwwwwwwwwwwn, I hit u back and told u \"\n",
    "                       \"y..........so please Read it, and pray before u decide\",\n",
    "                       \"come on let's make em hate 😘make em pout they face 👿😩.\",\n",
    "                       \"one ep of despair arc made me happy but and then i'm going back to future arc and i'm upset again.\",\n",
    "                       \"Love all the ex United managers on Twitter who form our fanbase. \"\n",
    "                       \"Honestly I despair at times. Just back the fucking team eh #MUFC\",\n",
    "                       \"@keyshamackie it's fucking dreadful for live footy matches\",\n",
    "                       \"Grim and despair feeling-I look at self and my family. Hubby fought 20+ years for \"\n",
    "                       \"this country. I've worked 20+ years for this govt-->\",\n",
    "                       \"Some questions you get on Twitter make you want to despair. We've been so battered. \"\n",
    "                       \"We complain but aren't convinced things could be better.\",\n",
    "                       \"@dublins98dave me too! I am down 400 euro\",\n",
    "                       \"@ThinkReferrals oh man I'm jealous! just got it?\",\n",
    "                       \"Not to worry, noone got that one. Next question starts in 1 minute, get your thinking caps on\",\n",
    "                       \"Restoring new iTouch 2. Excited to use it. Yeeeeeeeee. Goodbye iTouch 1.\",\n",
    "                       \"#COINCIDENCE??? When you turn on the TV, etc.& listen & watch, the objective is to \"\n",
    "                       \"#CaptureYourMind with #fear & #depression. #FindGODNow!!!\",\n",
    "                       \"Just cleaned mii scrolly ball!\",\n",
    "                       \"@Theresa_Talbot @fleurrbie Haha...sorry about the dreadful puns... \"\n",
    "                       \"I need to get out more....I've been cooped up lately...\",\n",
    "                       \"That AK47 leave your spine with a frown\",\n",
    "                       \"@Theresa_Talbot @fleurrbie Haha...sorry about the dreadful puns... \"\n",
    "                       \"I need to get out more....I've been cooped up lately...\",\n",
    "                       \"@ShannonBeador we know the truth about her, the public is figuring it out. \"\n",
    "                       \"Her words mean nothing. #unhappy #mean #troubled #vile #bully\",\n",
    "                       \"http://www.facebook.com/pages/HelloTxt/73275306275 this message is posted on \"\n",
    "                       \"HelloTxt Facebook Fan page through HelloTxt, check it out\",\n",
    "                       \"Its raining on Staunton again, We need the rain, but that just means \"\n",
    "                       \"Ive got nothing sitting outside for people to see,\",\n",
    "                       \"I just received a mothers day card from my lovely daughter wishing \"\n",
    "                       \"my a happy mothers day http://tr.im/kWK9\",\n",
    "                       \"@RevTrevK @Wolfman93011 @Daraidernation @EROCKhd Take 2k out of it the numbers on \"\n",
    "                       \"madden are low and have dropped and people are unhappy\",\n",
    "                       \"penny dreadful just cleaved off a fraction of my heart\",\n",
    "                       \"@BigBossPeltonen \\nLikewise #death #cutting #despair\",\n",
    "                       \"@AmyMek this is so absurd I could laugh right now (if \"\n",
    "                       \"I also didn't feel like crying for the future of our country)\"\n",
    "                       \". #despair #wakeupcall\",\n",
    "                       \"@tariqmateen but sadly he missed some crucial and important points. \"\n",
    "                       \"Indian terrorism in pk, kal Boshan, etc.. Raw involvement\",\n",
    "                       \"Rooney ! Oh dear, oh dear ! Fucking dreadful 🙈⚽️⚽️\",\n",
    "                       \"tomorrow will be the last episode of despair arc, so much shit is gonna happen i'm not emotionally prepared...\",\n",
    "                       \"I get so much PUSSY\\nP - panic attacks \\nU - uncontrollable anxiety \\nS - suicidal fantasies \\nS - sadness \\nY - yearning for death\",\n",
    "                       \"#BB18 Michelle crying again #shocking #bitter He's just not that into you 😢#TeamNicole\",\n",
    "                       \"Now comes the fun part Because you can find only a few offers per country or you live outside US, your changes can be quite tiny.\",\n",
    "                       \"Somewhere between #hope and #despair the day after #meetingmyabuserincourt \\n#DVSurvivor\",\n",
    "                       \"Caballero's passing remains absolutely dreadful I see!\",\n",
    "                       \"@jamiesmart Huh! It's always my fault isn't it >:( #huff #sulk\",\n",
    "                       \"@rockcock64 cum and despair\",\n",
    "                       \"Somewhere between #hope and #despair the day after #meetingmyabuserincourt \\n#DVSurvivor\"])]\n"
   ]
  },
  {
   "cell_type": "code",
   "execution_count": 16,
   "metadata": {},
   "outputs": [
    {
     "data": {
      "text/html": [
       "<div>\n",
       "<style scoped>\n",
       "    .dataframe tbody tr th:only-of-type {\n",
       "        vertical-align: middle;\n",
       "    }\n",
       "\n",
       "    .dataframe tbody tr th {\n",
       "        vertical-align: top;\n",
       "    }\n",
       "\n",
       "    .dataframe thead th {\n",
       "        text-align: right;\n",
       "    }\n",
       "</style>\n",
       "<table border=\"1\" class=\"dataframe\">\n",
       "  <thead>\n",
       "    <tr style=\"text-align: right;\">\n",
       "      <th></th>\n",
       "      <th>text</th>\n",
       "      <th>emotion</th>\n",
       "      <th>source</th>\n",
       "    </tr>\n",
       "  </thead>\n",
       "  <tbody>\n",
       "    <tr>\n",
       "      <th>66055</th>\n",
       "      <td>@brendancoots where's your outrage that your p...</td>\n",
       "      <td>anger</td>\n",
       "      <td>wassa</td>\n",
       "    </tr>\n",
       "    <tr>\n",
       "      <th>66392</th>\n",
       "      <td>@brendancoots where's your outrage that your p...</td>\n",
       "      <td>anger</td>\n",
       "      <td>wassa</td>\n",
       "    </tr>\n",
       "  </tbody>\n",
       "</table>\n",
       "</div>"
      ],
      "text/plain": [
       "<div>\n",
       "<style scoped>\n",
       "    .dataframe tbody tr th:only-of-type {\n",
       "        vertical-align: middle;\n",
       "    }\n",
       "\n",
       "    .dataframe tbody tr th {\n",
       "        vertical-align: top;\n",
       "    }\n",
       "\n",
       "    .dataframe thead th {\n",
       "        text-align: right;\n",
       "    }\n",
       "</style>\n",
       "<table border=\"1\" class=\"dataframe\">\n",
       "  <thead>\n",
       "    <tr style=\"text-align: right;\">\n",
       "      <th></th>\n",
       "      <th>text</th>\n",
       "      <th>emotion</th>\n",
       "      <th>source</th>\n",
       "    </tr>\n",
       "  </thead>\n",
       "  <tbody>\n",
       "    <tr>\n",
       "      <th>66055</th>\n",
       "      <td>@brendancoots where's your outrage that your p...</td>\n",
       "      <td>anger</td>\n",
       "      <td>wassa</td>\n",
       "    </tr>\n",
       "    <tr>\n",
       "      <th>66392</th>\n",
       "      <td>@brendancoots where's your outrage that your p...</td>\n",
       "      <td>anger</td>\n",
       "      <td>wassa</td>\n",
       "    </tr>\n",
       "  </tbody>\n",
       "</table>\n",
       "</div>"
      ]
     },
     "execution_count": 16,
     "metadata": {},
     "output_type": "execute_result"
    }
   ],
   "source": [
    "df.loc[df.text.str.contains(\"@brendancoots\")]"
   ]
  },
  {
   "cell_type": "code",
   "execution_count": 17,
   "metadata": {},
   "outputs": [],
   "source": [
    "df = df[~df.text.str.contains(\"@BigBossPeltonen\")]\n",
    "df = df[~df.text.str.contains(\"http://snipurl.com/hq0n1\")]\n",
    "df = df[~df.text.str.contains(\"@DougieMcfly Haha dude\")]\n",
    "df = df[~df.text.str.contains(\"http://boo.fm/b25651\")]\n",
    "df = df[~df.text.str.contains(\"@ThinkReferrals oh man\")]\n",
    "df = df[~df.text.str.contains(\"@tariqmateen but sadly\")]\n",
    "df = df[~df.text.str.contains(\"@ShannonBeador\")]\n",
    "df = df[~df.text.str.contains(\"@jamiesmart\")]\n",
    "df = df[~df.text.str.contains(\"@Markgatiss I'm surrounded by those Trump voters.\")]\n",
    "df = df[~df.text.str.contains(\"@mar_de_palabras\")]\n",
    "df = df[~df.text.str.contains(\"hey @mitchelmusso please reply me,\")]\n",
    "df = df[~df.text.str.contains(\"Go away please\")]\n",
    "df = df[~df.text.str.contains(\"Migraine hangover all day.\")]\n",
    "df = df[~df.text.str.contains(\"@ArcadianLuthier -- taking out his feelings\")]\n",
    "df = df[~df.text.str.contains(\"When you turn on the TV, etc.& listen & watch\")]"
   ]
  },
  {
   "cell_type": "code",
   "execution_count": 18,
   "metadata": {},
   "outputs": [],
   "source": [
    "dedup_df = df.drop_duplicates().drop_duplicates(subset=\"text\")\n",
    "generate_final_report(dedup_df)"
   ]
  },
  {
   "cell_type": "code",
   "execution_count": 19,
   "metadata": {},
   "outputs": [
    {
     "data": {
      "text/plain": [
       "happiness    14259\nsadness       9799\nneutral       8605\nworry         8428\nlove          7808\nsurprise      6055\nfear          3632\nanger         2432\nName: emotion, dtype: int64"
      ]
     },
     "execution_count": 19,
     "metadata": {},
     "output_type": "execute_result"
    }
   ],
   "source": [
    "value_counts = dedup_df['emotion'].value_counts(normalize=True)\n",
    "restricted_df = dedup_df[dedup_df.emotion.isin(\n",
    "    value_counts[value_counts > 0.03].index)]\n",
    "restricted_df['emotion'].value_counts()"
   ]
  },
  {
   "cell_type": "code",
   "execution_count": 20,
   "metadata": {},
   "outputs": [],
   "source": [
    "generate_final_report(restricted_df)"
   ]
  },
  {
   "cell_type": "code",
   "execution_count": 21,
   "metadata": {},
   "outputs": [],
   "source": [
    "restricted_df.to_csv('data/processed/emotions_full.csv')"
   ]
  },
  {
   "cell_type": "code",
   "execution_count": null,
   "metadata": {},
   "outputs": [],
   "source": []
  }
 ],
 "metadata": {
  "kernelspec": {
   "display_name": "Python 2",
   "language": "python",
   "name": "python2"
  },
  "language_info": {
   "codemirror_mode": {
    "name": "ipython",
    "version": 2
   },
   "file_extension": ".py",
   "mimetype": "text/x-python",
   "name": "python",
   "nbconvert_exporter": "python",
   "pygments_lexer": "ipython2",
   "version": "2.7.6"
  }
 },
 "nbformat": 4,
 "nbformat_minor": 0
}
